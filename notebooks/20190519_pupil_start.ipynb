{
 "nbformat": 4,
 "nbformat_minor": 2,
 "metadata": {
  "language_info": {
   "name": "python",
   "codemirror_mode": {
    "name": "ipython",
    "version": 3
   },
   "version": "2.7.17"
  },
  "orig_nbformat": 2,
  "file_extension": ".py",
  "mimetype": "text/x-python",
  "name": "python",
  "npconvert_exporter": "python",
  "pygments_lexer": "ipython3",
  "version": 3
 },
 "cells": [
  {
   "cell_type": "markdown",
   "execution_count": 5,
   "metadata": {},
   "outputs": [
    {
     "ename": "SyntaxError",
     "evalue": "invalid syntax (<ipython-input-5-34d6f7499109>, line 1)",
     "output_type": "error",
     "traceback": [
      "\u001b[1;36m  File \u001b[1;32m\"<ipython-input-5-34d6f7499109>\"\u001b[1;36m, line \u001b[1;32m1\u001b[0m\n\u001b[1;33m    https://stackoverflow.com/questions/30492623/using-both-python-2-x-and-python-3-x-in-ipython-notebook\u001b[0m\n\u001b[1;37m           ^\u001b[0m\n\u001b[1;31mSyntaxError\u001b[0m\u001b[1;31m:\u001b[0m invalid syntax\n"
     ]
    }
   ],
   "source": [
    "Note that in order to run Py2.7 to run the pupil analysis code and new conda env must be made. To \n",
    "do this run the following code in cmd with anaconda installed:\n",
    "\n",
    "    conda create -n pupil27 python=2.7 ipykernel anaconda\n",
    "\n",
    "This will install a new environment names pupil27 that runs on python2.7 and has all basic anaconda \n",
    "packages installed so that you can run a jupyter notebook for analysis.\n",
    "\n",
    "Check below that you have the correct python version installed. It should print \n",
    "\n",
    "    2.7.17\n",
    "    "
   ]
  },
  {
   "cell_type": "code",
   "execution_count": 1,
   "metadata": {},
   "outputs": [
    {
     "name": "stdout",
     "output_type": "stream",
     "text": "2.7.17\n"
    }
   ],
   "source": [
    "from platform import python_version\n",
    "print (python_version())"
   ]
  },
  {
   "cell_type": "code",
   "execution_count": 2,
   "metadata": {},
   "outputs": [
    {
     "name": "stderr",
     "output_type": "stream",
     "text": "src\\fix\\PupilTracker.py:7: UserWarning: \nThis call to matplotlib.use() has no effect because the backend has already\nbeen chosen; matplotlib.use() must be called *before* pylab, matplotlib.pyplot,\nor matplotlib.backends is imported for the first time.\n\nThe backend was *originally* set to 'module://ipykernel.pylab.backend_inline' by the following code:\n  File \"C:\\ProgramData\\Anaconda3\\envs\\pupil27\\lib\\runpy.py\", line 174, in _run_module_as_main\n    \"__main__\", fname, loader, pkg_name)\n  File \"C:\\ProgramData\\Anaconda3\\envs\\pupil27\\lib\\runpy.py\", line 72, in _run_code\n    exec code in run_globals\n  File \"C:\\ProgramData\\Anaconda3\\envs\\pupil27\\lib\\site-packages\\ipykernel_launcher.py\", line 16, in <module>\n    app.launch_new_instance()\n  File \"C:\\ProgramData\\Anaconda3\\envs\\pupil27\\lib\\site-packages\\traitlets\\config\\application.py\", line 664, in launch_instance\n    app.start()\n  File \"C:\\ProgramData\\Anaconda3\\envs\\pupil27\\lib\\site-packages\\ipykernel\\kernelapp.py\", line 499, in start\n    self.io_loop.start()\n  File \"C:\\ProgramData\\Anaconda3\\envs\\pupil27\\lib\\site-packages\\tornado\\ioloop.py\", line 1073, in start\n    handler_func(fd_obj, events)\n  File \"C:\\ProgramData\\Anaconda3\\envs\\pupil27\\lib\\site-packages\\tornado\\stack_context.py\", line 300, in null_wrapper\n    return fn(*args, **kwargs)\n  File \"C:\\ProgramData\\Anaconda3\\envs\\pupil27\\lib\\site-packages\\zmq\\eventloop\\zmqstream.py\", line 456, in _handle_events\n    self._handle_recv()\n  File \"C:\\ProgramData\\Anaconda3\\envs\\pupil27\\lib\\site-packages\\zmq\\eventloop\\zmqstream.py\", line 486, in _handle_recv\n    self._run_callback(callback, msg)\n  File \"C:\\ProgramData\\Anaconda3\\envs\\pupil27\\lib\\site-packages\\zmq\\eventloop\\zmqstream.py\", line 438, in _run_callback\n    callback(*args, **kwargs)\n  File \"C:\\ProgramData\\Anaconda3\\envs\\pupil27\\lib\\site-packages\\tornado\\stack_context.py\", line 300, in null_wrapper\n    return fn(*args, **kwargs)\n  File \"C:\\ProgramData\\Anaconda3\\envs\\pupil27\\lib\\site-packages\\ipykernel\\kernelbase.py\", line 283, in dispatcher\n    return self.dispatch_shell(stream, msg)\n  File \"C:\\ProgramData\\Anaconda3\\envs\\pupil27\\lib\\site-packages\\ipykernel\\kernelbase.py\", line 233, in dispatch_shell\n    handler(stream, idents, msg)\n  File \"C:\\ProgramData\\Anaconda3\\envs\\pupil27\\lib\\site-packages\\ipykernel\\kernelbase.py\", line 399, in execute_request\n    user_expressions, allow_stdin)\n  File \"C:\\ProgramData\\Anaconda3\\envs\\pupil27\\lib\\site-packages\\ipykernel\\ipkernel.py\", line 208, in do_execute\n    res = shell.run_cell(code, store_history=store_history, silent=silent)\n  File \"C:\\ProgramData\\Anaconda3\\envs\\pupil27\\lib\\site-packages\\ipykernel\\zmqshell.py\", line 537, in run_cell\n    return super(ZMQInteractiveShell, self).run_cell(*args, **kwargs)\n  File \"C:\\ProgramData\\Anaconda3\\envs\\pupil27\\lib\\site-packages\\IPython\\core\\interactiveshell.py\", line 2724, in run_cell\n    self.events.trigger('post_run_cell')\n  File \"C:\\ProgramData\\Anaconda3\\envs\\pupil27\\lib\\site-packages\\IPython\\core\\events.py\", line 74, in trigger\n    func(*args, **kwargs)\n  File \"C:\\ProgramData\\Anaconda3\\envs\\pupil27\\lib\\site-packages\\ipykernel\\pylab\\backend_inline.py\", line 164, in configure_once\n    activate_matplotlib(backend)\n  File \"C:\\ProgramData\\Anaconda3\\envs\\pupil27\\lib\\site-packages\\IPython\\core\\pylabtools.py\", line 315, in activate_matplotlib\n    matplotlib.pyplot.switch_backend(backend)\n  File \"C:\\ProgramData\\Anaconda3\\envs\\pupil27\\lib\\site-packages\\matplotlib\\pyplot.py\", line 231, in switch_backend\n    matplotlib.use(newbackend, warn=False, force=True)\n  File \"C:\\ProgramData\\Anaconda3\\envs\\pupil27\\lib\\site-packages\\matplotlib\\__init__.py\", line 1422, in use\n    reload(sys.modules['matplotlib.backends'])\n  File \"C:\\ProgramData\\Anaconda3\\envs\\pupil27\\lib\\site-packages\\matplotlib\\backends\\__init__.py\", line 16, in <module>\n    line for line in traceback.format_stack()\n\n\n  matplotlib.use('agg')\n"
    }
   ],
   "source": [
    "# OPTIONAL: Load the \"autoreload\" extension so that code can change\n",
    "%load_ext autoreload\n",
    "\n",
    "# OPTIONAL: always reload modules so that as you change code in src, it gets loaded\n",
    "%autoreload 2\n",
    "\n",
    "from src.fix.pupil_quant import pupil_quant_cmh as pq"
   ]
  },
  {
   "cell_type": "code",
   "execution_count": 4,
   "metadata": {},
   "outputs": [
    {
     "name": "stdout",
     "output_type": "stream",
     "text": "('Params are:', {'ratio_threshold': 2, 'perc_weight': 0.9, 'min_contour_len': 5, 'error_threshold': 1, 'gaussian_blur': 5, 'perc_low': 10, 'dr_threshold': 0.2, 'contrast_threshold': 0.2, 'speed_threshold': 0.2, 'relative_area_threshold': 0.01, 'margin': 0.02, 'perc_high': 90})\n('Filename is:', '101619_V2.4_-527')\n('File path is:', 'data/raw/101619_V2.4/101619_V2.4_-527.avi')\n('Contrast (std)', 18.32715747428806)\nIm at 1\nIm at 2\nMade it past grab\nNone\n"
    },
    {
     "ename": "TypeError",
     "evalue": "'NoneType' object has no attribute '__getitem__'",
     "output_type": "error",
     "traceback": [
      "\u001b[1;31m\u001b[0m",
      "\u001b[1;31mTypeError\u001b[0mTraceback (most recent call last)",
      "\u001b[1;32m<ipython-input-4-286fdbadd627>\u001b[0m in \u001b[0;36m<module>\u001b[1;34m()\u001b[0m\n\u001b[0;32m      2\u001b[0m \u001b[0mvp1\u001b[0m \u001b[1;33m=\u001b[0m \u001b[1;34m\"data/raw/101619_V2.4/101619_V2.4_-527.avi\"\u001b[0m\u001b[1;33m\u001b[0m\u001b[0m\n\u001b[0;32m      3\u001b[0m \u001b[1;33m\u001b[0m\u001b[0m\n\u001b[1;32m----> 4\u001b[1;33m \u001b[0mpq\u001b[0m\u001b[1;33m(\u001b[0m\u001b[0mvp1\u001b[0m\u001b[1;33m)\u001b[0m\u001b[1;33m\u001b[0m\u001b[0m\n\u001b[0m",
      "\u001b[1;32md:\\CMH\\projects\\pupil\\src\\fix\\pupil_quant.pyc\u001b[0m in \u001b[0;36mpupil_quant_cmh\u001b[1;34m(avi_path, param)\u001b[0m\n\u001b[0;32m     39\u001b[0m     \u001b[1;32mprint\u001b[0m \u001b[1;33m(\u001b[0m\u001b[0mcv\u001b[0m\u001b[1;33m.\u001b[0m\u001b[0mroi\u001b[0m\u001b[1;33m)\u001b[0m\u001b[1;33m\u001b[0m\u001b[0m\n\u001b[0;32m     40\u001b[0m \u001b[1;33m\u001b[0m\u001b[0m\n\u001b[1;32m---> 41\u001b[1;33m     \u001b[0mPupildata\u001b[0m \u001b[1;33m=\u001b[0m \u001b[0mtr\u001b[0m\u001b[1;33m.\u001b[0m\u001b[0mtrack\u001b[0m\u001b[1;33m(\u001b[0m\u001b[0mavi_path\u001b[0m\u001b[1;33m,\u001b[0m \u001b[0mcv\u001b[0m\u001b[1;33m.\u001b[0m\u001b[0mroi\u001b[0m\u001b[1;33m,\u001b[0m \u001b[0mdisplay\u001b[0m\u001b[1;33m=\u001b[0m\u001b[0mTrue\u001b[0m\u001b[1;33m)\u001b[0m\u001b[1;33m\u001b[0m\u001b[0m\n\u001b[0m\u001b[0;32m     42\u001b[0m \u001b[1;33m\u001b[0m\u001b[0m\n\u001b[0;32m     43\u001b[0m     \u001b[1;31m#save\u001b[0m\u001b[1;33m\u001b[0m\u001b[1;33m\u001b[0m\u001b[0m\n",
      "\u001b[1;32md:\\CMH\\projects\\pupil\\src\\fix\\PupilTracker.pyc\u001b[0m in \u001b[0;36mtrack\u001b[1;34m(self, videofile, eye_roi, display)\u001b[0m\n\u001b[0;32m    203\u001b[0m \u001b[1;33m\u001b[0m\u001b[0m\n\u001b[0;32m    204\u001b[0m             \u001b[1;31m# --- preprocess and treshold images\u001b[0m\u001b[1;33m\u001b[0m\u001b[1;33m\u001b[0m\u001b[0m\n\u001b[1;32m--> 205\u001b[1;33m             \u001b[0mgray\u001b[0m\u001b[1;33m,\u001b[0m \u001b[0msmall_gray\u001b[0m\u001b[1;33m,\u001b[0m \u001b[0mimg_std\u001b[0m\u001b[1;33m,\u001b[0m \u001b[0mthres\u001b[0m\u001b[1;33m,\u001b[0m \u001b[0mblur\u001b[0m \u001b[1;33m=\u001b[0m \u001b[0mself\u001b[0m\u001b[1;33m.\u001b[0m\u001b[0mpreprocess_image\u001b[0m\u001b[1;33m(\u001b[0m\u001b[0mframe\u001b[0m\u001b[1;33m,\u001b[0m \u001b[0meye_roi\u001b[0m\u001b[1;33m)\u001b[0m\u001b[1;33m\u001b[0m\u001b[0m\n\u001b[0m\u001b[0;32m    206\u001b[0m \u001b[1;33m\u001b[0m\u001b[0m\n\u001b[0;32m    207\u001b[0m             \u001b[1;31m# --- if contrast is too low, skip it\u001b[0m\u001b[1;33m\u001b[0m\u001b[1;33m\u001b[0m\u001b[0m\n",
      "\u001b[1;32md:\\CMH\\projects\\pupil\\src\\fix\\PupilTracker.pyc\u001b[0m in \u001b[0;36mpreprocess_image\u001b[1;34m(self, frame, eye_roi)\u001b[0m\n\u001b[0;32m    145\u001b[0m         \u001b[0mimg_std\u001b[0m \u001b[1;33m=\u001b[0m \u001b[0mnp\u001b[0m\u001b[1;33m.\u001b[0m\u001b[0mstd\u001b[0m\u001b[1;33m(\u001b[0m\u001b[0mgray\u001b[0m\u001b[1;33m)\u001b[0m\u001b[1;33m\u001b[0m\u001b[0m\n\u001b[0;32m    146\u001b[0m \u001b[1;33m\u001b[0m\u001b[0m\n\u001b[1;32m--> 147\u001b[1;33m         \u001b[0msmall_gray\u001b[0m \u001b[1;33m=\u001b[0m \u001b[0mgray\u001b[0m\u001b[1;33m[\u001b[0m\u001b[0mslice\u001b[0m\u001b[1;33m(\u001b[0m\u001b[1;33m*\u001b[0m\u001b[0meye_roi\u001b[0m\u001b[1;33m[\u001b[0m\u001b[1;36m0\u001b[0m\u001b[1;33m]\u001b[0m\u001b[1;33m)\u001b[0m\u001b[1;33m,\u001b[0m \u001b[0mslice\u001b[0m\u001b[1;33m(\u001b[0m\u001b[1;33m*\u001b[0m\u001b[0meye_roi\u001b[0m\u001b[1;33m[\u001b[0m\u001b[1;36m1\u001b[0m\u001b[1;33m]\u001b[0m\u001b[1;33m)\u001b[0m\u001b[1;33m]\u001b[0m\u001b[1;33m\u001b[0m\u001b[0m\n\u001b[0m\u001b[0;32m    148\u001b[0m         \u001b[0mblur\u001b[0m \u001b[1;33m=\u001b[0m \u001b[0mcv2\u001b[0m\u001b[1;33m.\u001b[0m\u001b[0mGaussianBlur\u001b[0m\u001b[1;33m(\u001b[0m\u001b[0msmall_gray\u001b[0m\u001b[1;33m,\u001b[0m \u001b[1;33m(\u001b[0m\u001b[0mh\u001b[0m\u001b[1;33m,\u001b[0m \u001b[0mh\u001b[0m\u001b[1;33m)\u001b[0m\u001b[1;33m,\u001b[0m \u001b[1;36m0\u001b[0m\u001b[1;33m)\u001b[0m\u001b[1;33m\u001b[0m\u001b[0m\n\u001b[0;32m    149\u001b[0m         \u001b[0m_\u001b[0m\u001b[1;33m,\u001b[0m \u001b[0mthres\u001b[0m \u001b[1;33m=\u001b[0m \u001b[0mcv2\u001b[0m\u001b[1;33m.\u001b[0m\u001b[0mthreshold\u001b[0m\u001b[1;33m(\u001b[0m\u001b[0mblur\u001b[0m\u001b[1;33m,\u001b[0m \u001b[1;36m0\u001b[0m\u001b[1;33m,\u001b[0m \u001b[1;36m255\u001b[0m\u001b[1;33m,\u001b[0m \u001b[0mcv2\u001b[0m\u001b[1;33m.\u001b[0m\u001b[0mTHRESH_BINARY\u001b[0m \u001b[1;33m+\u001b[0m \u001b[0mcv2\u001b[0m\u001b[1;33m.\u001b[0m\u001b[0mTHRESH_OTSU\u001b[0m\u001b[1;33m)\u001b[0m\u001b[1;33m\u001b[0m\u001b[0m\n",
      "\u001b[1;31mTypeError\u001b[0m: 'NoneType' object has no attribute '__getitem__'"
     ]
    }
   ],
   "source": [
    "vp = \"data/raw/101619_V2.4/101619_V2.4_-400.avi\"\n",
    "vp1 = \"data/raw/101619_V2.4/101619_V2.4_-527.avi\"\n",
    "\n",
    "pq(vp1)"
   ]
  },
  {
   "cell_type": "markdown",
   "execution_count": null,
   "metadata": {},
   "outputs": [],
   "source": [
    "Note: Issue above seems to be from differences between OpenCV2, 3, and 4. See link:\n",
    "    https://stackoverflow.com/questions/20851365/opencv-contours-need-more-than-2-values-to-unpack\n",
    "\n",
    "Modifying the code in PupilTracker.track() to expect 2 arguments\n"
   ]
  },
  {
   "cell_type": "code",
   "execution_count": 6,
   "metadata": {},
   "outputs": [
    {
     "name": "stdout",
     "output_type": "stream",
     "text": "('Params are:', {'ratio_threshold': 2, 'perc_weight': 0.9, 'min_contour_len': 5, 'error_threshold': 1, 'gaussian_blur': 5, 'perc_low': 10, 'dr_threshold': 0.2, 'contrast_threshold': 0.2, 'speed_threshold': 0.2, 'relative_area_threshold': 0.01, 'margin': 0.02, 'perc_high': 90})\n('Filename is:', '101619_V2.4_-527')\n('File path is:', 'data/raw/101619_V2.4/101619_V2.4_-527.avi')\n('Contrast (std)', 18.32715747428806)\nIm at 1\nIm at 2\nStart Mouse Position: 268, 149\nIm at 3\nIm at 4\n[[150 205]\n [269 339]]\nIm at 5\nMade it past grab\n[[150 205]\n [269 339]]\n\tframe (500/9000)\n\tframe (1000/9000)\n\tframe (1500/9000)\n\tframe (2000/9000)\n\tframe (2500/9000)\n\tframe (3000/9000)\n\tframe (3500/9000)\n\tframe (4000/9000)\n\tframe (4500/9000)\n\tframe (5000/9000)\n\tframe (5500/9000)\n\tframe (6000/9000)\n\tframe (6500/9000)\n\tframe (7000/9000)\n\tframe (7500/9000)\n\tframe (8000/9000)\n\tframe (8500/9000)\n\tframe (9000/9000)\n('Reached end of videofile ', 'data/raw/101619_V2.4/101619_V2.4_-527.avi')\n"
    }
   ],
   "source": [
    "vp = \"data/raw/101619_V2.4/101619_V2.4_-400.avi\"\n",
    "vp1 = \"data/raw/101619_V2.4/101619_V2.4_-527.avi\"\n",
    "\n",
    "pq(vp1)"
   ]
  },
  {
   "cell_type": "code",
   "execution_count": 44,
   "metadata": {},
   "outputs": [
    {
     "name": "stdout",
     "output_type": "stream",
     "text": "('Params are:', {'ratio_threshold': 2, 'perc_weight': 0.9, 'min_contour_len': 5, 'error_threshold': 1, 'gaussian_blur': 5, 'perc_low': 10, 'dr_threshold': 0.2, 'contrast_threshold': 0.2, 'speed_threshold': 0.2, 'relative_area_threshold': 0.01, 'margin': 0.02, 'perc_high': 90})\n('Filename is:', '101619_V2.4_-400')\n('File path is:', 'data/raw/101619_V2.4/101619_V2.4_-400.avi')\n('Contrast (std)', 19.298452237599864)\nIm at 1\nIm at 2\nStart Mouse Position: 274, 142\nIm at 3\nIm at 4\n[[143 216]\n [275 366]]\nIm at 5\nStart Mouse Position: 345, 146\nIm at 3\nIm at 4\n[[147 212]\n [279 346]]\nIm at 5\nStart Mouse Position: 279, 149\nIm at 3\nIm at 4\n[[150 209]\n [280 339]]\nIm at 5\nMade it past grab\n[[150 209]\n [280 339]]\n\tframe (500/9000)\n\tframe (1000/9000)\n\tframe (1500/9000)\n\tframe (2000/9000)\n\tframe (2500/9000)\n\tframe (3000/9000)\n\tframe (3500/9000)\n\tframe (4000/9000)\n\tframe (4500/9000)\n\tframe (5000/9000)\n\tframe (5500/9000)\n\tframe (6000/9000)\n\tframe (6500/9000)\n\tframe (7000/9000)\n\tframe (7500/9000)\n\tframe (8000/9000)\n\tframe (8500/9000)\n\tframe (9000/9000)\n('Reached end of videofile ', 'data/raw/101619_V2.4/101619_V2.4_-400.avi')\n"
    }
   ],
   "source": [
    "pq(vp)"
   ]
  },
  {
   "cell_type": "code",
   "execution_count": null,
   "metadata": {},
   "outputs": [],
   "source": []
  }
 ]
}